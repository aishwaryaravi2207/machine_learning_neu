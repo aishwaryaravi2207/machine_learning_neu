{
 "cells": [
  {
   "cell_type": "markdown",
   "metadata": {},
   "source": [
    "# Data Pre-Processing\n",
    "\n",
    "# Step 1 : Creating a table to store the selected cities along with the unique ids "
   ]
  },
  {
   "cell_type": "code",
   "execution_count": 26,
   "metadata": {},
   "outputs": [
    {
     "name": "stdout",
     "output_type": "stream",
     "text": [
      "        city  id\n",
      "0  amsterdam   1\n",
      "1  barcelona   2\n",
      "2     london   3\n",
      "3   sandiego   4\n",
      "4    toronto   5\n"
     ]
    }
   ],
   "source": [
    "import pandas as pd\n",
    "\n",
    "# Define your data\n",
    "city_data = pd.DataFrame({\n",
    "    'city': ['amsterdam', 'barcelona', 'london', 'sandiego', 'toronto'],\n",
    "    'id': [1, 2, 3, 4, 5]\n",
    "})\n",
    "\n",
    "# Display the DataFrame\n",
    "print(city_data)"
   ]
  },
  {
   "cell_type": "markdown",
   "metadata": {},
   "source": [
    "# Step 2 : Part A - Reading listing data for the city of Amsterdam from the .csv and converting into a data frame"
   ]
  },
  {
   "cell_type": "code",
   "execution_count": 27,
   "metadata": {},
   "outputs": [
    {
     "name": "stdout",
     "output_type": "stream",
     "text": [
      "                   id                                      listing_url  \\\n",
      "0             6624170             https://www.airbnb.com/rooms/6624170   \n",
      "1             8837071             https://www.airbnb.com/rooms/8837071   \n",
      "2              716107              https://www.airbnb.com/rooms/716107   \n",
      "3  664538756986273255  https://www.airbnb.com/rooms/664538756986273255   \n",
      "4             8191077             https://www.airbnb.com/rooms/8191077   \n",
      "\n",
      "        scrape_id last_scraped           source  \\\n",
      "0  20240905174946   2024-09-05  previous scrape   \n",
      "1  20240905174946   2024-09-05  previous scrape   \n",
      "2  20240905174946   2024-09-05  previous scrape   \n",
      "3  20240905174946   2024-09-06  previous scrape   \n",
      "4  20240905174946   2024-09-05  previous scrape   \n",
      "\n",
      "                                             name  \\\n",
      "0             Warm, cozy sunlighted downtown appt   \n",
      "1                   Cozy apartment in city center   \n",
      "2              Loft style home nearby city centre   \n",
      "3  Geweldige duurzame eco woonark op unieke plek!   \n",
      "4                               Old bar apartment   \n",
      "\n",
      "                                         description  \\\n",
      "0  2 room appt. 1.8 km from central station with ...   \n",
      "1  Located in Amsterdam's sweet spot. A stone's t...   \n",
      "2                                                NaN   \n",
      "3  This unique eco houseboat is located in the mo...   \n",
      "4  This just renovated apartment for 6 persons is...   \n",
      "\n",
      "                               neighborhood_overview  \\\n",
      "0                                                NaN   \n",
      "1                                      see the guide   \n",
      "2                                                NaN   \n",
      "3                                                NaN   \n",
      "4  Our apartment is situated in the centre of Ams...   \n",
      "\n",
      "                                         picture_url   host_id  ...  \\\n",
      "0  https://a0.muscache.com/pictures/df91da10-f7d4...  34670170  ...   \n",
      "1  https://a0.muscache.com/pictures/5fee12d4-61d0...  13034277  ...   \n",
      "2  https://a0.muscache.com/pictures/9927048/b367a...   3689867  ...   \n",
      "3  https://a0.muscache.com/pictures/miso/Hosting-...   7647768  ...   \n",
      "4  https://a0.muscache.com/pictures/miso/Hosting-...  43205475  ...   \n",
      "\n",
      "  review_scores_communication review_scores_location review_scores_value  \\\n",
      "0                        4.86                   4.56                4.65   \n",
      "1                         NaN                    NaN                 NaN   \n",
      "2                        4.83                   4.66                4.61   \n",
      "3                        5.00                   5.00                5.00   \n",
      "4                        4.79                   4.83                4.45   \n",
      "\n",
      "                    license instant_bookable calculated_host_listings_count  \\\n",
      "0  0363 3CF3 3233 3B24 6BEC                f                              1   \n",
      "1  0363 0C20 1768 FAAA 3556                f                              1   \n",
      "2  0363 0014 1E57 F097 81A5                f                              1   \n",
      "3  0363 468D A0A1 6595 5E39                f                              1   \n",
      "4                    Exempt                f                              1   \n",
      "\n",
      "  calculated_host_listings_count_entire_homes  \\\n",
      "0                                           1   \n",
      "1                                           1   \n",
      "2                                           1   \n",
      "3                                           1   \n",
      "4                                           0   \n",
      "\n",
      "  calculated_host_listings_count_private_rooms  \\\n",
      "0                                            0   \n",
      "1                                            0   \n",
      "2                                            0   \n",
      "3                                            0   \n",
      "4                                            1   \n",
      "\n",
      "  calculated_host_listings_count_shared_rooms reviews_per_month  \n",
      "0                                           0              0.38  \n",
      "1                                           0               NaN  \n",
      "2                                           0              1.21  \n",
      "3                                           0              0.04  \n",
      "4                                           0              2.41  \n",
      "\n",
      "[5 rows x 75 columns]\n"
     ]
    }
   ],
   "source": [
    "import pandas as pd\n",
    "\n",
    "listing_amsterdam_df = pd.read_csv(\"/Users/aishwaryaravichandran/Documents copy/machine learning neu/assignment_one/dataset/listing/listing_amsterdam.csv\")\n",
    "print(listing_amsterdam_df.head())"
   ]
  },
  {
   "cell_type": "markdown",
   "metadata": {},
   "source": [
    "# Printing the total of no. of rows and features in the listing dataset available for Amsterdam "
   ]
  },
  {
   "cell_type": "code",
   "execution_count": 28,
   "metadata": {},
   "outputs": [
    {
     "name": "stdout",
     "output_type": "stream",
     "text": [
      "(9659, 75)\n"
     ]
    }
   ],
   "source": [
    "print(listing_amsterdam_df.shape)"
   ]
  },
  {
   "cell_type": "markdown",
   "metadata": {},
   "source": [
    "# Step 2 : Part B - Removing unecessary columns from the listing dataframe"
   ]
  },
  {
   "cell_type": "code",
   "execution_count": 29,
   "metadata": {},
   "outputs": [
    {
     "name": "stdout",
     "output_type": "stream",
     "text": [
      "(9659, 60)\n"
     ]
    }
   ],
   "source": [
    "listing_amsterdam_df = listing_amsterdam_df.drop(columns=['listing_url','scrape_id','last_scraped','source','picture_url','host_url','host_response_time',\n",
    "                                                          'host_response_rate','host_acceptance_rate','host_thumbnail_url','host_picture_url','neighbourhood_group_cleansed',\n",
    "                                                          'calendar_updated','license','calendar_last_scraped'])\n",
    "\n",
    "print(listing_amsterdam_df.shape)"
   ]
  },
  {
   "cell_type": "markdown",
   "metadata": {},
   "source": [
    "# Step 2 : Part C - Adding the city_id field to all the records in the listing dataframe"
   ]
  },
  {
   "cell_type": "markdown",
   "metadata": {},
   "source": []
  },
  {
   "cell_type": "code",
   "execution_count": 30,
   "metadata": {},
   "outputs": [
    {
     "name": "stdout",
     "output_type": "stream",
     "text": [
      "(9659, 61)\n"
     ]
    }
   ],
   "source": [
    "amsterdam_id = city_data.loc[city_data['city'] == 'amsterdam','id'].values[0]\n",
    "\n",
    "listing_amsterdam_df['city_id'] = amsterdam_id\n",
    "\n",
    "print(listing_amsterdam_df.shape)"
   ]
  },
  {
   "cell_type": "markdown",
   "metadata": {},
   "source": [
    "# Step 3 : Part A - Reading review data for the city of Amsterdam from the .csv and converting into a data frame"
   ]
  },
  {
   "cell_type": "markdown",
   "metadata": {},
   "source": []
  },
  {
   "cell_type": "code",
   "execution_count": 31,
   "metadata": {},
   "outputs": [
    {
     "name": "stdout",
     "output_type": "stream",
     "text": [
      "   listing_id    id        date  reviewer_id reviewer_name  \\\n",
      "0        2818  1191  2009-03-30        10952           Lam   \n",
      "1        2818  1771  2009-04-24        12798         Alice   \n",
      "2        2818  1989  2009-05-03        11869       Natalja   \n",
      "3        2818  2797  2009-05-18        14064       Enrique   \n",
      "4        2818  3151  2009-05-25        17977       Sherwin   \n",
      "\n",
      "                                            comments  \n",
      "0  Daniel is really cool. The place was nice and ...  \n",
      "1  Daniel is the most amazing host! His place is ...  \n",
      "2  We had such a great time in Amsterdam. Daniel ...  \n",
      "3  Very professional operation. Room is very clea...  \n",
      "4  Daniel is highly recommended.  He provided all...  \n"
     ]
    }
   ],
   "source": [
    "import pandas as pd\n",
    "\n",
    "review_amsterdam_df = pd.read_csv(\"/Users/aishwaryaravichandran/Documents copy/machine learning neu/assignment_one/dataset/reviews/reviews_amstredam.csv\")\n",
    "print(review_amsterdam_df.head())"
   ]
  },
  {
   "cell_type": "markdown",
   "metadata": {},
   "source": [
    "# Printing the total of no. of rows and features in the review dataset available for Amsterdam "
   ]
  },
  {
   "cell_type": "code",
   "execution_count": 32,
   "metadata": {},
   "outputs": [
    {
     "name": "stdout",
     "output_type": "stream",
     "text": [
      "(440807, 6)\n"
     ]
    }
   ],
   "source": [
    "print(review_amsterdam_df.shape)"
   ]
  },
  {
   "cell_type": "markdown",
   "metadata": {},
   "source": [
    "# Step 3 : Part B - Removing unecessary columns from the review dataframe and Adding the city_id field to all the records in the review dataframe"
   ]
  },
  {
   "cell_type": "markdown",
   "metadata": {},
   "source": []
  },
  {
   "cell_type": "code",
   "execution_count": 33,
   "metadata": {},
   "outputs": [
    {
     "name": "stdout",
     "output_type": "stream",
     "text": [
      "(440807, 5)\n"
     ]
    }
   ],
   "source": [
    "review_amsterdam_df = review_amsterdam_df.drop(columns=['reviewer_id','reviewer_name'])\n",
    "\n",
    "review_amsterdam_df['city_id'] = amsterdam_id\n",
    "\n",
    "print(review_amsterdam_df.shape)"
   ]
  },
  {
   "cell_type": "markdown",
   "metadata": {},
   "source": [
    "# Printing the total of no. of rows and features in the listing and review dataset available for Amsterdam "
   ]
  },
  {
   "cell_type": "markdown",
   "metadata": {},
   "source": []
  },
  {
   "cell_type": "code",
   "execution_count": 34,
   "metadata": {},
   "outputs": [
    {
     "name": "stdout",
     "output_type": "stream",
     "text": [
      "(9659, 61)\n",
      "(440807, 5)\n"
     ]
    }
   ],
   "source": [
    "print(listing_amsterdam_df.shape) \n",
    "\n",
    "print(review_amsterdam_df.shape)"
   ]
  },
  {
   "cell_type": "markdown",
   "metadata": {},
   "source": [
    "# Ananlyzing the features of the listing dataframe to check if significant fields have null values"
   ]
  },
  {
   "cell_type": "code",
   "execution_count": 35,
   "metadata": {},
   "outputs": [
    {
     "name": "stdout",
     "output_type": "stream",
     "text": [
      "<class 'pandas.core.frame.DataFrame'>\n",
      "RangeIndex: 9659 entries, 0 to 9658\n",
      "Data columns (total 61 columns):\n",
      " #   Column                                        Non-Null Count  Dtype  \n",
      "---  ------                                        --------------  -----  \n",
      " 0   id                                            9659 non-null   int64  \n",
      " 1   name                                          9659 non-null   object \n",
      " 2   description                                   9310 non-null   object \n",
      " 3   neighborhood_overview                         5469 non-null   object \n",
      " 4   host_id                                       9659 non-null   int64  \n",
      " 5   host_name                                     9659 non-null   object \n",
      " 6   host_since                                    9659 non-null   object \n",
      " 7   host_location                                 8547 non-null   object \n",
      " 8   host_about                                    5152 non-null   object \n",
      " 9   host_is_superhost                             9549 non-null   object \n",
      " 10  host_neighbourhood                            2912 non-null   object \n",
      " 11  host_listings_count                           9659 non-null   int64  \n",
      " 12  host_total_listings_count                     9659 non-null   int64  \n",
      " 13  host_verifications                            9659 non-null   object \n",
      " 14  host_has_profile_pic                          9659 non-null   object \n",
      " 15  host_identity_verified                        9659 non-null   object \n",
      " 16  neighbourhood                                 5469 non-null   object \n",
      " 17  neighbourhood_cleansed                        9659 non-null   object \n",
      " 18  latitude                                      9659 non-null   float64\n",
      " 19  longitude                                     9659 non-null   float64\n",
      " 20  property_type                                 9659 non-null   object \n",
      " 21  room_type                                     9659 non-null   object \n",
      " 22  accommodates                                  9659 non-null   int64  \n",
      " 23  bathrooms                                     5868 non-null   float64\n",
      " 24  bathrooms_text                                9649 non-null   object \n",
      " 25  bedrooms                                      9385 non-null   float64\n",
      " 26  beds                                          5843 non-null   float64\n",
      " 27  amenities                                     9659 non-null   object \n",
      " 28  price                                         5869 non-null   object \n",
      " 29  minimum_nights                                9659 non-null   int64  \n",
      " 30  maximum_nights                                9659 non-null   int64  \n",
      " 31  minimum_minimum_nights                        9658 non-null   float64\n",
      " 32  maximum_minimum_nights                        9658 non-null   float64\n",
      " 33  minimum_maximum_nights                        9658 non-null   float64\n",
      " 34  maximum_maximum_nights                        9658 non-null   float64\n",
      " 35  minimum_nights_avg_ntm                        9658 non-null   float64\n",
      " 36  maximum_nights_avg_ntm                        9658 non-null   float64\n",
      " 37  has_availability                              9349 non-null   object \n",
      " 38  availability_30                               9659 non-null   int64  \n",
      " 39  availability_60                               9659 non-null   int64  \n",
      " 40  availability_90                               9659 non-null   int64  \n",
      " 41  availability_365                              9659 non-null   int64  \n",
      " 42  number_of_reviews                             9659 non-null   int64  \n",
      " 43  number_of_reviews_ltm                         9659 non-null   int64  \n",
      " 44  number_of_reviews_l30d                        9659 non-null   int64  \n",
      " 45  first_review                                  8632 non-null   object \n",
      " 46  last_review                                   8632 non-null   object \n",
      " 47  review_scores_rating                          8632 non-null   float64\n",
      " 48  review_scores_accuracy                        8632 non-null   float64\n",
      " 49  review_scores_cleanliness                     8631 non-null   float64\n",
      " 50  review_scores_checkin                         8632 non-null   float64\n",
      " 51  review_scores_communication                   8632 non-null   float64\n",
      " 52  review_scores_location                        8632 non-null   float64\n",
      " 53  review_scores_value                           8632 non-null   float64\n",
      " 54  instant_bookable                              9659 non-null   object \n",
      " 55  calculated_host_listings_count                9659 non-null   int64  \n",
      " 56  calculated_host_listings_count_entire_homes   9659 non-null   int64  \n",
      " 57  calculated_host_listings_count_private_rooms  9659 non-null   int64  \n",
      " 58  calculated_host_listings_count_shared_rooms   9659 non-null   int64  \n",
      " 59  reviews_per_month                             8632 non-null   float64\n",
      " 60  city_id                                       9659 non-null   int64  \n",
      "dtypes: float64(19), int64(19), object(23)\n",
      "memory usage: 4.5+ MB\n",
      "None\n"
     ]
    }
   ],
   "source": [
    "print(listing_amsterdam_df.info())"
   ]
  },
  {
   "cell_type": "markdown",
   "metadata": {},
   "source": [
    "# Analyzing price column as its a significant feature for future tasks "
   ]
  },
  {
   "cell_type": "code",
   "execution_count": 36,
   "metadata": {},
   "outputs": [
    {
     "name": "stdout",
     "output_type": "stream",
     "text": [
      "<class 'pandas.core.series.Series'>\n",
      "RangeIndex: 9659 entries, 0 to 9658\n",
      "Series name: price\n",
      "Non-Null Count  Dtype \n",
      "--------------  ----- \n",
      "5869 non-null   object\n",
      "dtypes: object(1)\n",
      "memory usage: 75.6+ KB\n",
      "None\n"
     ]
    }
   ],
   "source": [
    "print(listing_amsterdam_df['price'].info())"
   ]
  },
  {
   "cell_type": "markdown",
   "metadata": {},
   "source": [
    "# Analyzing minimum_nights and maximum_nights column as its a significant feature for future tasks"
   ]
  },
  {
   "cell_type": "code",
   "execution_count": 37,
   "metadata": {},
   "outputs": [
    {
     "name": "stdout",
     "output_type": "stream",
     "text": [
      "<class 'pandas.core.series.Series'>\n",
      "RangeIndex: 9659 entries, 0 to 9658\n",
      "Series name: minimum_nights\n",
      "Non-Null Count  Dtype\n",
      "--------------  -----\n",
      "9659 non-null   int64\n",
      "dtypes: int64(1)\n",
      "memory usage: 75.6 KB\n",
      "None\n",
      "<class 'pandas.core.series.Series'>\n",
      "RangeIndex: 9659 entries, 0 to 9658\n",
      "Series name: maximum_nights\n",
      "Non-Null Count  Dtype\n",
      "--------------  -----\n",
      "9659 non-null   int64\n",
      "dtypes: int64(1)\n",
      "memory usage: 75.6 KB\n",
      "None\n"
     ]
    }
   ],
   "source": [
    "print(listing_amsterdam_df['minimum_nights'].info())\n",
    "print(listing_amsterdam_df['maximum_nights'].info())"
   ]
  },
  {
   "cell_type": "markdown",
   "metadata": {},
   "source": [
    "# Analyzing number_of_reviews and review_scores_rating column as its a significant feature for future tasks "
   ]
  },
  {
   "cell_type": "code",
   "execution_count": 38,
   "metadata": {},
   "outputs": [
    {
     "name": "stdout",
     "output_type": "stream",
     "text": [
      "<class 'pandas.core.series.Series'>\n",
      "RangeIndex: 9659 entries, 0 to 9658\n",
      "Series name: number_of_reviews\n",
      "Non-Null Count  Dtype\n",
      "--------------  -----\n",
      "9659 non-null   int64\n",
      "dtypes: int64(1)\n",
      "memory usage: 75.6 KB\n",
      "None\n",
      "<class 'pandas.core.series.Series'>\n",
      "RangeIndex: 9659 entries, 0 to 9658\n",
      "Series name: review_scores_rating\n",
      "Non-Null Count  Dtype  \n",
      "--------------  -----  \n",
      "8632 non-null   float64\n",
      "dtypes: float64(1)\n",
      "memory usage: 75.6 KB\n",
      "None\n"
     ]
    }
   ],
   "source": [
    "print(listing_amsterdam_df['number_of_reviews'].info())\n",
    "print(listing_amsterdam_df['review_scores_rating'].info())"
   ]
  },
  {
   "cell_type": "markdown",
   "metadata": {},
   "source": [
    "# Dropping records with null price and review score rating"
   ]
  },
  {
   "cell_type": "code",
   "execution_count": 39,
   "metadata": {},
   "outputs": [],
   "source": [
    "listing_amsterdam_df = listing_amsterdam_df.dropna(subset=['price'])\n",
    "listing_amsterdam_df = listing_amsterdam_df.dropna(subset=['review_scores_rating'])"
   ]
  },
  {
   "cell_type": "markdown",
   "metadata": {},
   "source": [
    "# Printing the total of no. of rows and features in the listing and review dataset available for Amsterdam "
   ]
  },
  {
   "cell_type": "code",
   "execution_count": 40,
   "metadata": {},
   "outputs": [
    {
     "name": "stdout",
     "output_type": "stream",
     "text": [
      "(5187, 61)\n"
     ]
    }
   ],
   "source": [
    "print(listing_amsterdam_df.shape)"
   ]
  },
  {
   "cell_type": "markdown",
   "metadata": {},
   "source": [
    "# Ananlyzing the features of the review dataframe to check if significant fields have null values"
   ]
  },
  {
   "cell_type": "code",
   "execution_count": 41,
   "metadata": {},
   "outputs": [
    {
     "name": "stdout",
     "output_type": "stream",
     "text": [
      "<class 'pandas.core.frame.DataFrame'>\n",
      "RangeIndex: 440807 entries, 0 to 440806\n",
      "Data columns (total 5 columns):\n",
      " #   Column      Non-Null Count   Dtype \n",
      "---  ------      --------------   ----- \n",
      " 0   listing_id  440807 non-null  int64 \n",
      " 1   id          440807 non-null  int64 \n",
      " 2   date        440807 non-null  object\n",
      " 3   comments    440782 non-null  object\n",
      " 4   city_id     440807 non-null  int64 \n",
      "dtypes: int64(3), object(2)\n",
      "memory usage: 16.8+ MB\n",
      "None\n"
     ]
    }
   ],
   "source": [
    "print(review_amsterdam_df.info())"
   ]
  },
  {
   "cell_type": "markdown",
   "metadata": {},
   "source": [
    "# Removing '$' and ',' from price values and converting it to float to perform numerical statistics"
   ]
  },
  {
   "cell_type": "code",
   "execution_count": 43,
   "metadata": {},
   "outputs": [
    {
     "name": "stdout",
     "output_type": "stream",
     "text": [
      "10    269.0\n",
      "31    254.0\n",
      "32    203.0\n",
      "34    599.0\n",
      "36    109.0\n",
      "Name: price, dtype: float64\n"
     ]
    }
   ],
   "source": [
    "listing_amsterdam_df['price'] = listing_amsterdam_df['price'].astype(str).replace({'\\$': ''}, regex=True).replace({',':''}, regex=True).astype('float')\n",
    "\n",
    "print(listing_amsterdam_df['price'].head())"
   ]
  },
  {
   "cell_type": "markdown",
   "metadata": {},
   "source": [
    "# Storing the listing and review data frame into a .csv file"
   ]
  },
  {
   "cell_type": "code",
   "execution_count": 45,
   "metadata": {},
   "outputs": [],
   "source": [
    "import pandas as pd\n",
    "\n",
    "# Saving DataFrame to CSV file\n",
    "listing_amsterdam_df.to_csv('/Users/aishwaryaravichandran/Documents copy/machine learning neu/assignment_one/dataset/pre_processed_listing_dataset/processed_listing_amsterdam.csv', index=False)  # index=False prevents saving the index as a column\n",
    "\n",
    "review_amsterdam_df.to_csv('/Users/aishwaryaravichandran/Documents copy/machine learning neu/assignment_one/dataset/pre_processed_listing_dataset/processed_review_amsterdam.csv', index=False)  # index=False prevents saving the index as a column\n",
    "\n",
    "\n"
   ]
  }
 ],
 "metadata": {
  "kernelspec": {
   "display_name": ".venv",
   "language": "python",
   "name": "python3"
  },
  "language_info": {
   "codemirror_mode": {
    "name": "ipython",
    "version": 3
   },
   "file_extension": ".py",
   "mimetype": "text/x-python",
   "name": "python",
   "nbconvert_exporter": "python",
   "pygments_lexer": "ipython3",
   "version": "3.11.7"
  }
 },
 "nbformat": 4,
 "nbformat_minor": 2
}
